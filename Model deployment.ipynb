{
 "cells": [
  {
   "cell_type": "code",
   "execution_count": 1,
   "id": "11002a57",
   "metadata": {},
   "outputs": [],
   "source": [
    "import flask\n",
    "import pickle\n",
    "from flask import request"
   ]
  },
  {
   "cell_type": "code",
   "execution_count": 2,
   "id": "a3818433",
   "metadata": {},
   "outputs": [
    {
     "name": "stdout",
     "output_type": "stream",
     "text": [
      "Requirement already satisfied: flask-cors in c:\\users\\lenovo\\anaconda3\\lib\\site-packages (3.0.10)Note: you may need to restart the kernel to use updated packages.\n",
      "Requirement already satisfied: Flask>=0.9 in c:\\users\\lenovo\\anaconda3\\lib\\site-packages (from flask-cors) (1.1.2)\n",
      "Requirement already satisfied: Six in c:\\users\\lenovo\\anaconda3\\lib\\site-packages (from flask-cors) (1.15.0)\n",
      "Requirement already satisfied: click>=5.1 in c:\\users\\lenovo\\anaconda3\\lib\\site-packages (from Flask>=0.9->flask-cors) (7.1.2)\n",
      "Requirement already satisfied: Jinja2>=2.10.1 in c:\\users\\lenovo\\anaconda3\\lib\\site-packages (from Flask>=0.9->flask-cors) (2.11.3)\n",
      "Requirement already satisfied: Werkzeug>=0.15 in c:\\users\\lenovo\\anaconda3\\lib\\site-packages (from Flask>=0.9->flask-cors) (1.0.1)\n",
      "Requirement already satisfied: itsdangerous>=0.24 in c:\\users\\lenovo\\anaconda3\\lib\\site-packages (from Flask>=0.9->flask-cors) (1.1.0)\n",
      "Requirement already satisfied: MarkupSafe>=0.23 in c:\\users\\lenovo\\anaconda3\\lib\\site-packages (from Jinja2>=2.10.1->Flask>=0.9->flask-cors) (1.1.1)\n",
      "\n"
     ]
    }
   ],
   "source": [
    "pip install flask-cors"
   ]
  },
  {
   "cell_type": "code",
   "execution_count": 3,
   "id": "e569ebde",
   "metadata": {},
   "outputs": [],
   "source": [
    "from flask_cors import CORS, cross_origin\n",
    "import flask"
   ]
  },
  {
   "cell_type": "code",
   "execution_count": 4,
   "id": "fa17f501",
   "metadata": {},
   "outputs": [],
   "source": [
    "# IMPORTING ML Aspects\n",
    "import pickle\n",
    "\n",
    "rr = pickle.load(open(\"C:/Users/Lenovo/Downloads/Final project python sem 3/picklefile.pkl\", \"rb\"))\n",
    "ss = pickle.load(open(\"C:/Users/Lenovo/Downloads/Final project python sem 3/ss.pkl\", \"rb\"))"
   ]
  },
  {
   "cell_type": "code",
   "execution_count": null,
   "id": "f70ea946",
   "metadata": {},
   "outputs": [
    {
     "name": "stdout",
     "output_type": "stream",
     "text": [
      " * Serving Flask app \"__main__\" (lazy loading)\n",
      " * Environment: production\n",
      "   WARNING: This is a development server. Do not use it in a production deployment.\n",
      "   Use a production WSGI server instead.\n",
      " * Debug mode: off\n"
     ]
    },
    {
     "name": "stderr",
     "output_type": "stream",
     "text": [
      " * Running on http://localhost:8080/ (Press CTRL+C to quit)\n",
      "127.0.0.1 - - [21/Jan/2023 10:14:27] \"\u001b[37mOPTIONS /predictexports HTTP/1.1\u001b[0m\" 200 -\n",
      "127.0.0.1 - - [21/Jan/2023 10:14:27] \"\u001b[37mPOST /predictexports HTTP/1.1\u001b[0m\" 200 -\n",
      "127.0.0.1 - - [21/Jan/2023 10:31:53] \"\u001b[37mOPTIONS /predictexports HTTP/1.1\u001b[0m\" 200 -\n",
      "127.0.0.1 - - [21/Jan/2023 10:31:53] \"\u001b[37mPOST /predictexports HTTP/1.1\u001b[0m\" 200 -\n",
      "127.0.0.1 - - [21/Jan/2023 11:02:19] \"\u001b[37mOPTIONS /predictexports HTTP/1.1\u001b[0m\" 200 -\n",
      "127.0.0.1 - - [21/Jan/2023 11:02:19] \"\u001b[37mPOST /predictexports HTTP/1.1\u001b[0m\" 200 -\n",
      "127.0.0.1 - - [21/Jan/2023 11:24:09] \"\u001b[37mOPTIONS /predictexports HTTP/1.1\u001b[0m\" 200 -\n",
      "127.0.0.1 - - [21/Jan/2023 11:24:09] \"\u001b[37mPOST /predictexports HTTP/1.1\u001b[0m\" 200 -\n",
      "127.0.0.1 - - [21/Jan/2023 13:40:24] \"\u001b[37mOPTIONS /predictexports HTTP/1.1\u001b[0m\" 200 -\n",
      "127.0.0.1 - - [21/Jan/2023 13:40:24] \"\u001b[37mPOST /predictexports HTTP/1.1\u001b[0m\" 200 -\n"
     ]
    }
   ],
   "source": [
    "app = flask.Flask(__name__)\n",
    "CORS(app, support_credentials = True)\n",
    "@app.route('/hello')\n",
    "@cross_origin(supports_credentials = True)\n",
    "def sayHello():\n",
    "    print(\"Hello All!\")\n",
    "    return 'Message Received'\n",
    "\n",
    "\n",
    "@app.route('/predictexports', methods = ['POST'])\n",
    "@cross_origin(supports_credentials = True)\n",
    "def predictHeight():\n",
    "#     <!--  'imports($)',\n",
    "#         'top product export($)',\n",
    "#        'top product import($)', '1_gdp', '2_gdp', '1_gdpgrowth',\n",
    "#        '2_gdpgrowth' -->\n",
    "    data = request.get_json()\n",
    "    imports = data['imports($)']\n",
    "    top_product_export = data['top product export($)']\n",
    "    top_product_import = data['top product import($)']\n",
    "    gdp_1 = data['1_gdp']\n",
    "    gdp_2 = data['2_gdp']\n",
    "    gdpgrowth_1 = data['1_gdpgrowth']\n",
    "    gdpgrowth_2 = data['2_gdpgrowth']\n",
    "    \n",
    "    x = [imports,top_product_export,top_product_import,gdp_1, gdp_2,gdpgrowth_1,gdpgrowth_2]\n",
    "    \n",
    "    for i in x:\n",
    "            i = ss.transform([[i]])\n",
    "\n",
    "    exports = rr.predict([x])\n",
    "    exports = ss.inverse_transform([[exports[0]]])*1000000\n",
    "    \n",
    "    return {\"Exports\" : exports[0][0]}\n",
    "\n",
    "app.run(host = 'localhost', port = 8080)"
   ]
  },
  {
   "cell_type": "code",
   "execution_count": null,
   "id": "0a82ca1c",
   "metadata": {},
   "outputs": [],
   "source": []
  }
 ],
 "metadata": {
  "kernelspec": {
   "display_name": "Python 3",
   "language": "python",
   "name": "python3"
  },
  "language_info": {
   "codemirror_mode": {
    "name": "ipython",
    "version": 3
   },
   "file_extension": ".py",
   "mimetype": "text/x-python",
   "name": "python",
   "nbconvert_exporter": "python",
   "pygments_lexer": "ipython3",
   "version": "3.8.8"
  },
  "vscode": {
   "interpreter": {
    "hash": "4ec1e05e0d0386792cb8f2ef69028c3a80052bd0b940177e5edc475ab704b4f1"
   }
  }
 },
 "nbformat": 4,
 "nbformat_minor": 5
}
